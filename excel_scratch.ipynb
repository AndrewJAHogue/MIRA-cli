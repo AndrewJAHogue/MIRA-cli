{
 "cells": [
  {
   "cell_type": "code",
   "execution_count": 1,
   "metadata": {},
   "outputs": [],
   "source": [
    "import openpyxl as pe"
   ]
  },
  {
   "cell_type": "code",
   "execution_count": 3,
   "metadata": {},
   "outputs": [],
   "source": [
    "# basePath = '/media/al-linux/USB20FD/'\n",
    "basePath = '/media/al-chromebook/USB20FD/'\n",
    "filename = \"SOFIA pointsources\"\n",
    "data = pe.load_workbook(f'{basePath}{filename}.xlsx')\n",
    "sheet = data.active\n",
    "starting_row, starting_column = 49, 2\n",
    "ending_row, ending_column = 101, 9"
   ]
  },
  {
   "cell_type": "code",
   "execution_count": 41,
   "metadata": {},
   "outputs": [
    {
     "data": {
      "text/plain": [
       "297.528"
      ]
     },
     "execution_count": 41,
     "metadata": {},
     "output_type": "execute_result"
    }
   ],
   "source": [
    "x_cells, y_cells = sheet['B'][49:101], sheet['C'][49:101]\n",
    "y_cells[0].value"
   ]
  },
  {
   "cell_type": "code",
   "execution_count": 53,
   "metadata": {},
   "outputs": [
    {
     "name": "stdout",
     "output_type": "stream",
     "text": [
      "coords=(3115.033, 297.528)\n",
      "coords=(2125.399, 3117.643)\n",
      "coords=(1464.312, 2917.259)\n",
      "coords=(958.967, 3374.497)\n",
      "coords=(1145.646, 3417.084)\n",
      "coords=(1174.299, 4061.468)\n",
      "coords=(1160.512, 4201.906)\n",
      "coords=(1174.299, 4061.468)\n",
      "coords=(542.038, 4930.369)\n",
      "coords=(614.123, 4941.865)\n",
      "coords=(565.084, 5025.411)\n"
     ]
    },
    {
     "ename": "TypeError",
     "evalue": "argument of type 'NoneType' is not iterable",
     "output_type": "error",
     "traceback": [
      "\u001b[0;31m---------------------------------------------------------------------------\u001b[0m",
      "\u001b[0;31mTypeError\u001b[0m                                 Traceback (most recent call last)",
      "\u001b[1;32m/home/al-chromebook/Documents/MIRA-cli/excel_scratch.ipynb Cell 4'\u001b[0m in \u001b[0;36m<cell line: 1>\u001b[0;34m()\u001b[0m\n\u001b[1;32m      <a href='vscode-notebook-cell:/home/al-chromebook/Documents/MIRA-cli/excel_scratch.ipynb#ch0000004?line=0'>1</a>\u001b[0m \u001b[39mfor\u001b[39;00m index_x, x \u001b[39min\u001b[39;00m \u001b[39menumerate\u001b[39m(x_cells):\n\u001b[0;32m----> <a href='vscode-notebook-cell:/home/al-chromebook/Documents/MIRA-cli/excel_scratch.ipynb#ch0000004?line=1'>2</a>\u001b[0m     \u001b[39mif\u001b[39;00m \u001b[39m'\u001b[39;49m\u001b[39mCorrected\u001b[39;49m\u001b[39m'\u001b[39;49m \u001b[39min\u001b[39;49;00m sheet[\u001b[39m'\u001b[39;49m\u001b[39mI\u001b[39;49m\u001b[39m'\u001b[39;49m][index_x \u001b[39m+\u001b[39;49m \u001b[39m49\u001b[39;49m]\u001b[39m.\u001b[39;49mvalue:\n\u001b[1;32m      <a href='vscode-notebook-cell:/home/al-chromebook/Documents/MIRA-cli/excel_scratch.ipynb#ch0000004?line=2'>3</a>\u001b[0m         coords \u001b[39m=\u001b[39m (x\u001b[39m.\u001b[39mvalue, y_cells[index_x]\u001b[39m.\u001b[39mvalue)\n\u001b[1;32m      <a href='vscode-notebook-cell:/home/al-chromebook/Documents/MIRA-cli/excel_scratch.ipynb#ch0000004?line=3'>4</a>\u001b[0m         \u001b[39mprint\u001b[39m(\u001b[39mf\u001b[39m\u001b[39m'\u001b[39m\u001b[39m{\u001b[39;00mcoords\u001b[39m=}\u001b[39;00m\u001b[39m'\u001b[39m)\n",
      "\u001b[0;31mTypeError\u001b[0m: argument of type 'NoneType' is not iterable"
     ]
    }
   ],
   "source": [
    "for index_x, x in enumerate(x_cells):\n",
    "    if 'Corrected' in sheet['I'][index_x + 49].value:\n",
    "        coords = (x.value, y_cells[index_x].value)\n",
    "        print(f'{coords=}')"
   ]
  },
  {
   "cell_type": "code",
   "execution_count": null,
   "metadata": {},
   "outputs": [],
   "source": []
  }
 ],
 "metadata": {
  "interpreter": {
   "hash": "916dbcbb3f70747c44a77c7bcd40155683ae19c65e1c03b4aa3499c5328201f1"
  },
  "kernelspec": {
   "display_name": "Python 3.9.7 64-bit",
   "language": "python",
   "name": "python3"
  },
  "language_info": {
   "codemirror_mode": {
    "name": "ipython",
    "version": 3
   },
   "file_extension": ".py",
   "mimetype": "text/x-python",
   "name": "python",
   "nbconvert_exporter": "python",
   "pygments_lexer": "ipython3",
   "version": "3.9.7"
  },
  "orig_nbformat": 4
 },
 "nbformat": 4,
 "nbformat_minor": 2
}
