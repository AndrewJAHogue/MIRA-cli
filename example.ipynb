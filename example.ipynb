{
 "cells": [
  {
   "cell_type": "code",
   "execution_count": 2,
   "metadata": {},
   "outputs": [],
   "source": [
    "\n",
    "import numpy as np\n",
    "import sympy as sp\n",
    "from sympy.abc import A,a,x,y,c,b\n",
    "import matplotlib.pyplot as plt\n"
   ]
  },
  {
   "cell_type": "code",
   "execution_count": 3,
   "metadata": {},
   "outputs": [],
   "source": [
    "\n",
    "x0, y0 = sp.symbols('x0, y0')"
   ]
  },
  {
   "cell_type": "code",
   "execution_count": 4,
   "metadata": {},
   "outputs": [
    {
     "data": {
      "text/latex": [
       "$\\displaystyle A \\left(2 b \\left(x - x_{0}\\right) \\left(y - y_{0}\\right) + c \\left(y - y_{0}\\right)^{2} - \\left(x - x_{0}\\right)^{2}\\right)$"
      ],
      "text/plain": [
       "A*(2*b*(x - x0)*(y - y0) + c*(y - y0)**2 - (x - x0)**2)"
      ]
     },
     "execution_count": 4,
     "metadata": {},
     "output_type": "execute_result"
    }
   ],
   "source": [
    "\n",
    "twoD_G_eq = A*(-(x - x0)** 2 + 2*b*(x - x0)*(y - y0) + c*(y - y0)**2)\n",
    "\n",
    "twoD_G_eq"
   ]
  },
  {
   "cell_type": "code",
   "execution_count": 5,
   "metadata": {},
   "outputs": [],
   "source": [
    "def twod_Gauss(A, x, x0, y, y0, b, c):\n",
    "    inner = ((x - x0)** 2 + 2*b*(x - x0)*(y - y0) + c*(y - y0)**2)\n",
    "    return A * np.exp(-inner)"
   ]
  },
  {
   "cell_type": "code",
   "execution_count": 6,
   "metadata": {},
   "outputs": [],
   "source": [
    "def gauss2d(x, y, amp, x0,y0, a, b, c):\n",
    "    inner = a * (x - x0)**2\n",
    "    inner += 2 * b * (x - x0)**2 * (y - y0)**2\n",
    "    inner += c * (y - y0)**2\n",
    "    return amp * np.exp(-inner)"
   ]
  },
  {
   "cell_type": "code",
   "execution_count": null,
   "metadata": {},
   "outputs": [],
   "source": []
  },
  {
   "cell_type": "code",
   "execution_count": 7,
   "metadata": {},
   "outputs": [],
   "source": [
    "np.random.seed(1997)\n",
    "x, y = np.random.random((2, 10))\n",
    "x0, y0 = 0.3, 0.7\n",
    "amp, a, b, c = 1, 2, 3, 4\n",
    "\n",
    "zobs = gauss2d(x, y, amp, x0, y0, a, b, c)"
   ]
  },
  {
   "cell_type": "code",
   "execution_count": 8,
   "metadata": {},
   "outputs": [
    {
     "data": {
      "image/png": "[encoded data removed]",
      "text/plain": [
       "<Figure size 432x288 with 2 Axes>"
      ]
     },
     "metadata": {
      "needs_background": "light"
     },
     "output_type": "display_data"
    }
   ],
   "source": [
    "fig, ax = plt.subplots()\n",
    "scat = ax.scatter(x, y, c=zobs, s=200)\n",
    "fig.colorbar(scat)\n",
    "plt.show()"
   ]
  },
  {
   "cell_type": "code",
   "execution_count": 9,
   "metadata": {},
   "outputs": [],
   "source": [
    "import scipy.optimize as opt"
   ]
  },
  {
   "cell_type": "code",
   "execution_count": 10,
   "metadata": {},
   "outputs": [],
   "source": [
    "def gauss2d_A(xy, amp, x0, y0, a, b, c):\n",
    "    x, y = xy\n",
    "    return gauss2d(x, y, amp, x0, y0, a, b, c)"
   ]
  },
  {
   "cell_type": "code",
   "execution_count": 11,
   "metadata": {},
   "outputs": [],
   "source": [
    "def main():\n",
    "    x0, y0 = 0.3, 0.7\n",
    "    amp, a, b, c = 1,2,3,4\n",
    "    true_params = [amp, x0, y0, a, b, c]\n",
    "    xy, zobs = generate_example_data(10,true_params)\n",
    "    x, y = xy\n",
    "\n",
    "    i = zobs.argmax()\n",
    "    guess = [1, x[i], y[i], 1, 1, 1]\n",
    "    pred_params, uncert_cov = opt.curve_fit(gauss2d_A, xy, zobs, p0=guess)\n",
    "\n",
    "    zpred = gauss2d_A(xy, *pred_params)\n",
    "    print(  'True Parameters: ', true_params )\n",
    "    print(  'Predicted Parameters: ', pred_params )\n",
    "    print(  'Residual, RMS(obs - pred:',  np.sqrt(np.mean((zobs - zpred)**2)))\n",
    "\n",
    "    plot(xy, zobs, pred_params)\n",
    "    plt.show()\n",
    "\n",
    "\n",
    "def generate_example_data(num, params):\n",
    "    np.random.seed(1997)\n",
    "    xy = np.random.random((2, num))\n",
    "\n",
    "    zobs = gauss2d_A(xy, *params)\n",
    "    return xy, zobs\n",
    "\n",
    "def plot(xy, zobs, pred_params):\n",
    "    x, y = xy\n",
    "    yi, xi = np.mgrid[:1:30j, -0.2:1.2:30j]\n",
    "    xyi = np.vstack([xi.ravel(), yi.ravel()])\n",
    "\n",
    "    zpred = gauss2d_A(xyi, *pred_params)\n",
    "    zpred.shape = xi.shape\n",
    "\n",
    "    fig, ax = plt.subplots()\n",
    "    ax.scatter(x, y, c=zobs, s=200, vmin=zpred.min(), vmax=zpred.max())\n",
    "    im = ax.imshow(zpred, extent=[xi.min(), xi.max(), yi.max(), yi.min()], aspect='auto')\n",
    "\n",
    "    fig.colorbar(im)\n",
    "    ax.invert_yaxis()\n",
    "    return fig\n"
   ]
  },
  {
   "cell_type": "code",
   "execution_count": 12,
   "metadata": {},
   "outputs": [
    {
     "name": "stdout",
     "output_type": "stream",
     "text": [
      "True Parameters:  [1, 0.3, 0.7, 2, 3, 4]\n",
      "Predicted Parameters:  [1.  0.3 0.7 2.  3.  4. ]\n",
      "Residual, RMS(obs - pred: 0.0\n"
     ]
    },
    {
     "data": {
      "image/png": "[encoded data removed]",
      "text/plain": [
       "<Figure size 432x288 with 2 Axes>"
      ]
     },
     "metadata": {
      "needs_background": "light"
     },
     "output_type": "display_data"
    }
   ],
   "source": [
    "main()"
   ]
  },
  {
   "cell_type": "code",
   "execution_count": 13,
   "metadata": {},
   "outputs": [],
   "source": [
    "from astropy.io import fits"
   ]
  },
  {
   "cell_type": "code",
   "execution_count": 14,
   "metadata": {},
   "outputs": [],
   "source": [
    "# basePath = '/media/al-chromebook/USB20FD/Python/Research/fits/Full Maps/'\n",
    "basePath = '/media/al-linux/USB20FD/Python/Research/fits/Full Maps/'\n",
    "sofia_full = basePath + 'F0217_FO_IMA_70030015_FORF253_MOS_0001-0348_final_MATT_Corrected.fits'\n",
    "hdu = fits.open(sofia_full)[0]\n",
    "sofia_full_image = hdu.data"
   ]
  },
  {
   "cell_type": "code",
   "execution_count": 15,
   "metadata": {},
   "outputs": [],
   "source": [
    "\n",
    "def newMain(xy):\n",
    "    amp, a, b, c = 1,2,3,4\n",
    "    true_params = [amp, x0, y0, a, b, c]\n",
    "    xy, zobs = generate_example_data(10,true_params)\n",
    "    x, y = xy\n",
    "\n",
    "    i = zobs.argmax()\n",
    "    guess = [1, x[i], y[i], 1, 1, 1]\n",
    "    pred_params, uncert_cov = opt.curve_fit(gauss2d_A, xy, zobs, p0=guess)\n",
    "\n",
    "    zpred = gauss2d_A(xy, *pred_params)\n",
    "    print(  'True Parameters: ', true_params )\n",
    "    print(  'Predicted Parameters: ', pred_params )\n",
    "    print(  'Residual, RMS(obs - pred:',  np.sqrt(np.mean((zobs - zpred)**2)))\n",
    "\n",
    "    plot(xy, zobs, pred_params)\n",
    "    plt.show()\n",
    "\n"
   ]
  },
  {
   "cell_type": "code",
   "execution_count": 30,
   "metadata": {},
   "outputs": [
    {
     "ename": "ValueError",
     "evalue": "operands could not be broadcast together with shapes (3503,) (5639,) ",
     "output_type": "error",
     "traceback": [
      "\u001b[0;31m---------------------------------------------------------------------------\u001b[0m",
      "\u001b[0;31mValueError\u001b[0m                                Traceback (most recent call last)",
      "\u001b[1;32m/home/al-linux/Documents/Python/MIRA-CLI/example.ipynb Cell 16'\u001b[0m in \u001b[0;36m<cell line: 7>\u001b[0;34m()\u001b[0m\n\u001b[1;32m      <a href='vscode-notebook-cell:/home/al-linux/Documents/Python/MIRA-CLI/example.ipynb#ch0000015?line=4'>5</a>\u001b[0m column \u001b[39m=\u001b[39m sofia_full_image[:,row\u001b[39m.\u001b[39mshape[\u001b[39m0\u001b[39m] \u001b[39m-\u001b[39m \u001b[39m1\u001b[39m]\n\u001b[1;32m      <a href='vscode-notebook-cell:/home/al-linux/Documents/Python/MIRA-CLI/example.ipynb#ch0000015?line=5'>6</a>\u001b[0m \u001b[39m# params = [amp, x0, y0, a, b, c]\u001b[39;00m\n\u001b[0;32m----> <a href='vscode-notebook-cell:/home/al-linux/Documents/Python/MIRA-CLI/example.ipynb#ch0000015?line=6'>7</a>\u001b[0m zobs \u001b[39m=\u001b[39m gauss2d_A((row, column), amp, x0, y0, a, b, c)\n",
      "\u001b[1;32m/home/al-linux/Documents/Python/MIRA-CLI/example.ipynb Cell 10'\u001b[0m in \u001b[0;36mgauss2d_A\u001b[0;34m(xy, amp, x0, y0, a, b, c)\u001b[0m\n\u001b[1;32m      <a href='vscode-notebook-cell:/home/al-linux/Documents/Python/MIRA-CLI/example.ipynb#ch0000009?line=0'>1</a>\u001b[0m \u001b[39mdef\u001b[39;00m \u001b[39mgauss2d_A\u001b[39m(xy, amp, x0, y0, a, b, c):\n\u001b[1;32m      <a href='vscode-notebook-cell:/home/al-linux/Documents/Python/MIRA-CLI/example.ipynb#ch0000009?line=1'>2</a>\u001b[0m     x, y \u001b[39m=\u001b[39m xy\n\u001b[0;32m----> <a href='vscode-notebook-cell:/home/al-linux/Documents/Python/MIRA-CLI/example.ipynb#ch0000009?line=2'>3</a>\u001b[0m     \u001b[39mreturn\u001b[39;00m gauss2d(x, y, amp, x0, y0, a, b, c)\n",
      "\u001b[1;32m/home/al-linux/Documents/Python/MIRA-CLI/example.ipynb Cell 5'\u001b[0m in \u001b[0;36mgauss2d\u001b[0;34m(x, y, amp, x0, y0, a, b, c)\u001b[0m\n\u001b[1;32m      <a href='vscode-notebook-cell:/home/al-linux/Documents/Python/MIRA-CLI/example.ipynb#ch0000004?line=0'>1</a>\u001b[0m \u001b[39mdef\u001b[39;00m \u001b[39mgauss2d\u001b[39m(x, y, amp, x0,y0, a, b, c):\n\u001b[1;32m      <a href='vscode-notebook-cell:/home/al-linux/Documents/Python/MIRA-CLI/example.ipynb#ch0000004?line=1'>2</a>\u001b[0m     inner \u001b[39m=\u001b[39m a \u001b[39m*\u001b[39m (x \u001b[39m-\u001b[39m x0)\u001b[39m*\u001b[39m\u001b[39m*\u001b[39m\u001b[39m2\u001b[39m\n\u001b[0;32m----> <a href='vscode-notebook-cell:/home/al-linux/Documents/Python/MIRA-CLI/example.ipynb#ch0000004?line=2'>3</a>\u001b[0m     inner \u001b[39m+\u001b[39m\u001b[39m=\u001b[39m \u001b[39m2\u001b[39;49m \u001b[39m*\u001b[39;49m b \u001b[39m*\u001b[39;49m (x \u001b[39m-\u001b[39;49m x0)\u001b[39m*\u001b[39;49m\u001b[39m*\u001b[39;49m\u001b[39m2\u001b[39;49m \u001b[39m*\u001b[39;49m (y \u001b[39m-\u001b[39;49m y0)\u001b[39m*\u001b[39;49m\u001b[39m*\u001b[39;49m\u001b[39m2\u001b[39;49m\n\u001b[1;32m      <a href='vscode-notebook-cell:/home/al-linux/Documents/Python/MIRA-CLI/example.ipynb#ch0000004?line=3'>4</a>\u001b[0m     inner \u001b[39m+\u001b[39m\u001b[39m=\u001b[39m c \u001b[39m*\u001b[39m (y \u001b[39m-\u001b[39m y0)\u001b[39m*\u001b[39m\u001b[39m*\u001b[39m\u001b[39m2\u001b[39m\n\u001b[1;32m      <a href='vscode-notebook-cell:/home/al-linux/Documents/Python/MIRA-CLI/example.ipynb#ch0000004?line=4'>5</a>\u001b[0m     \u001b[39mreturn\u001b[39;00m amp \u001b[39m*\u001b[39m np\u001b[39m.\u001b[39mexp(\u001b[39m-\u001b[39minner)\n",
      "\u001b[0;31mValueError\u001b[0m: operands could not be broadcast together with shapes (3503,) (5639,) "
     ]
    }
   ],
   "source": [
    "x0, y0 = 0.3, 0.7\n",
    "amp, a, b, c = 1,2,3,4\n",
    "x, y = 1145, 3417\n",
    "row = sofia_full_image[x]\n",
    "column = sofia_full_image[:,row.shape[0] - 1]\n",
    "# params = [amp, x0, y0, a, b, c]\n",
    "# zobs = gauss2d_A((row, column), amp, x0, y0, a, b, c)"
   ]
  },
  {
   "cell_type": "code",
   "execution_count": null,
   "metadata": {},
   "outputs": [],
   "source": [
    "\n",
    "xy"
   ]
  }
 ],
 "metadata": {
  "interpreter": {
   "hash": "916dbcbb3f70747c44a77c7bcd40155683ae19c65e1c03b4aa3499c5328201f1"
  },
  "kernelspec": {
   "display_name": "Python 3.9.7 64-bit",
   "language": "python",
   "name": "python3"
  },
  "language_info": {
   "codemirror_mode": {
    "name": "ipython",
    "version": 3
   },
   "file_extension": ".py",
   "mimetype": "text/x-python",
   "name": "python",
   "nbconvert_exporter": "python",
   "pygments_lexer": "ipython3",
   "version": "3.8.10"
  },
  "orig_nbformat": 4
 },
 "nbformat": 4,
 "nbformat_minor": 2
}
